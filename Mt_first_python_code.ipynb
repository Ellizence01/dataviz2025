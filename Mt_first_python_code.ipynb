{
  "nbformat": 4,
  "nbformat_minor": 0,
  "metadata": {
    "colab": {
      "provenance": [],
      "authorship_tag": "ABX9TyPzf4MqKRx9M6U+dsB6nuds",
      "include_colab_link": true
    },
    "kernelspec": {
      "name": "python3",
      "display_name": "Python 3"
    },
    "language_info": {
      "name": "python"
    }
  },
  "cells": [
    {
      "cell_type": "markdown",
      "metadata": {
        "id": "view-in-github",
        "colab_type": "text"
      },
      "source": [
        "<a href=\"https://colab.research.google.com/github/Ellizence01/dataviz2025/blob/main/Mt_first_python_code.ipynb\" target=\"_parent\"><img src=\"https://colab.research.google.com/assets/colab-badge.svg\" alt=\"Open In Colab\"/></a>"
      ]
    },
    {
      "cell_type": "markdown",
      "source": [
        "*Markdown* to descripe something\n",
        "\" # \" -> Topic"
      ],
      "metadata": {
        "id": "qvHOR69QIDoF"
      }
    },
    {
      "cell_type": "markdown",
      "source": [
        "#Intro"
      ],
      "metadata": {
        "id": "w0Ty7YWXIT0R"
      }
    },
    {
      "cell_type": "markdown",
      "source": [
        "##name"
      ],
      "metadata": {
        "id": "1Uumy56FIYY3"
      }
    },
    {
      "cell_type": "code",
      "source": [
        "print(\"Iwarin\")"
      ],
      "metadata": {
        "colab": {
          "base_uri": "https://localhost:8080/"
        },
        "id": "QJwcCO_kIeW6",
        "outputId": "ce2b5dfa-9ab3-432e-dc99-500e94b8a8d0"
      },
      "execution_count": 1,
      "outputs": [
        {
          "output_type": "stream",
          "name": "stdout",
          "text": [
            "Iwarin\n"
          ]
        }
      ]
    },
    {
      "cell_type": "markdown",
      "source": [
        "##surname"
      ],
      "metadata": {
        "id": "-EJsEDY7I1Xj"
      }
    },
    {
      "cell_type": "code",
      "source": [
        "print(\"Chuensaen\")"
      ],
      "metadata": {
        "colab": {
          "base_uri": "https://localhost:8080/"
        },
        "id": "71F56bffIgOe",
        "outputId": "271a8472-2f43-4c96-f477-3cde1ccc8003"
      },
      "execution_count": 2,
      "outputs": [
        {
          "output_type": "stream",
          "name": "stdout",
          "text": [
            "Chuensaen\n"
          ]
        }
      ]
    }
  ]
}