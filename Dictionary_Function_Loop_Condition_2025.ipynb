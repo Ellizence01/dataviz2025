{
  "nbformat": 4,
  "nbformat_minor": 0,
  "metadata": {
    "kernelspec": {
      "display_name": "Python 3",
      "language": "python",
      "name": "python3"
    },
    "language_info": {
      "codemirror_mode": {
        "name": "ipython",
        "version": 3
      },
      "file_extension": ".py",
      "mimetype": "text/x-python",
      "name": "python",
      "nbconvert_exporter": "python",
      "pygments_lexer": "ipython3",
      "version": "3.7.4"
    },
    "colab": {
      "provenance": [],
      "include_colab_link": true
    }
  },
  "cells": [
    {
      "cell_type": "markdown",
      "metadata": {
        "id": "view-in-github",
        "colab_type": "text"
      },
      "source": [
        "<a href=\"https://colab.research.google.com/github/Ellizence01/dataviz2025/blob/main/Dictionary_Function_Loop_Condition_2025.ipynb\" target=\"_parent\"><img src=\"https://colab.research.google.com/assets/colab-badge.svg\" alt=\"Open In Colab\"/></a>"
      ]
    },
    {
      "cell_type": "markdown",
      "source": [
        "# Dictionary"
      ],
      "metadata": {
        "id": "BMTqkV73RT0b"
      }
    },
    {
      "cell_type": "code",
      "source": [
        "dict_a = {'abc':123,'def':456,'ghi':789}"
      ],
      "metadata": {
        "id": "MaGNbhVQRRSL"
      },
      "execution_count": null,
      "outputs": []
    },
    {
      "cell_type": "code",
      "source": [
        "dict_a"
      ],
      "metadata": {
        "colab": {
          "base_uri": "https://localhost:8080/"
        },
        "id": "lkegMadtSq-D",
        "outputId": "8baa931c-77e8-4e33-a91a-b4249e06b79e"
      },
      "execution_count": null,
      "outputs": [
        {
          "output_type": "execute_result",
          "data": {
            "text/plain": [
              "{'abc': 123, 'def': 456, 'ghi': 789}"
            ]
          },
          "metadata": {},
          "execution_count": 2
        }
      ]
    },
    {
      "cell_type": "code",
      "source": [
        "dict_a['def']"
      ],
      "metadata": {
        "colab": {
          "base_uri": "https://localhost:8080/"
        },
        "id": "NqWcfzuoS2bG",
        "outputId": "0ee4f464-8ac4-48e6-e3e1-0d7be75e10f3"
      },
      "execution_count": null,
      "outputs": [
        {
          "output_type": "execute_result",
          "data": {
            "text/plain": [
              "456"
            ]
          },
          "metadata": {},
          "execution_count": 3
        }
      ]
    },
    {
      "cell_type": "code",
      "source": [
        "dict_b = {}"
      ],
      "metadata": {
        "id": "jxL0_5UbTQfE"
      },
      "execution_count": null,
      "outputs": []
    },
    {
      "cell_type": "code",
      "source": [
        "dict_b['a'] = 123"
      ],
      "metadata": {
        "id": "88tPFRsaTZ8F"
      },
      "execution_count": null,
      "outputs": []
    },
    {
      "cell_type": "code",
      "source": [
        "dict_b"
      ],
      "metadata": {
        "colab": {
          "base_uri": "https://localhost:8080/"
        },
        "id": "orGsq1LvTi5O",
        "outputId": "0afde9ca-28b8-4096-be93-9b2b10542170"
      },
      "execution_count": null,
      "outputs": [
        {
          "output_type": "execute_result",
          "data": {
            "text/plain": [
              "{'a': 123}"
            ]
          },
          "metadata": {},
          "execution_count": 6
        }
      ]
    },
    {
      "cell_type": "code",
      "source": [
        "dict_b['a'] = 567"
      ],
      "metadata": {
        "id": "HIRMmGKJTstN"
      },
      "execution_count": null,
      "outputs": []
    },
    {
      "cell_type": "code",
      "source": [
        "dict_b"
      ],
      "metadata": {
        "colab": {
          "base_uri": "https://localhost:8080/"
        },
        "id": "HDdIL8L_T4EE",
        "outputId": "0459a55b-5a4b-4826-b085-c7905e1dd6a6"
      },
      "execution_count": null,
      "outputs": [
        {
          "output_type": "execute_result",
          "data": {
            "text/plain": [
              "{'a': 567}"
            ]
          },
          "metadata": {},
          "execution_count": 9
        }
      ]
    },
    {
      "cell_type": "markdown",
      "source": [
        "## การ add สมาชิกเข้าไปใน dict"
      ],
      "metadata": {
        "id": "ao_VyxIqUCXv"
      }
    },
    {
      "cell_type": "code",
      "source": [
        "if 'b' not in dict_b:\n",
        "    dict_b['b'] = 123"
      ],
      "metadata": {
        "id": "SkHgyzbPT_qi"
      },
      "execution_count": null,
      "outputs": []
    },
    {
      "cell_type": "code",
      "source": [
        "dict_b"
      ],
      "metadata": {
        "colab": {
          "base_uri": "https://localhost:8080/"
        },
        "id": "1iT2-a2rUaCj",
        "outputId": "831b3c0f-303e-44f7-c296-eafa35f5684b"
      },
      "execution_count": null,
      "outputs": [
        {
          "output_type": "execute_result",
          "data": {
            "text/plain": [
              "{'a': 567, 'b': 123}"
            ]
          },
          "metadata": {},
          "execution_count": 12
        }
      ]
    },
    {
      "cell_type": "markdown",
      "metadata": {
        "id": "-57L9aVubPqU"
      },
      "source": [
        "# Function"
      ]
    },
    {
      "cell_type": "markdown",
      "metadata": {
        "id": "1DNzYhO4bPqb"
      },
      "source": [
        "## Function template\n",
        "#### ทำหน้าที่รับ input มาประมวณผลออกมาเป็น output\n",
        "#### f(x) = y"
      ]
    },
    {
      "cell_type": "markdown",
      "metadata": {
        "id": "3Nv1ZDEKbPqc"
      },
      "source": [
        "### def คือการกำหนดฟังก์ชัน"
      ]
    },
    {
      "cell_type": "markdown",
      "metadata": {
        "id": "DbHDoWEabPqc"
      },
      "source": [
        "```python\n",
        "    def function_name(_Input_) :\n",
        "        do_something with _Input_ to get _Output_\n",
        "        return _Output_\n",
        "```"
      ]
    },
    {
      "cell_type": "markdown",
      "metadata": {
        "id": "1fuimreqpVhU"
      },
      "source": [
        "เราใช้ เว้นวรรค (indent) เพื่อบอกขอบเขตของโปรแกรม"
      ]
    },
    {
      "cell_type": "markdown",
      "metadata": {
        "id": "kh2M1smCl5Iv"
      },
      "source": [
        "function มีส่วนสำคัญทั้งหมด 4 ส่วน\n",
        "\n",
        "1.   บอก python ว่าเราจะเขียนฟังก์ชั่น ชื่ออะไร  ```def function_name():``` (ขาดไม่ได้)\n",
        "2.   กำหนดตัวแปรที่จะเป็น input  ```_Input_``` (ขาดได้)\n",
        "3.   ส่วนประมวลผล ```do_something with _Input_ to get _Output_``` (ขาดไม่ได้)\n",
        "4.   ส่วน output ```return _Output_```(ขาดได้)\n",
        "\n"
      ]
    },
    {
      "cell_type": "markdown",
      "metadata": {
        "id": "lqWzVN5AbPqc"
      },
      "source": [
        "#### ตัวอย่างการเขียน normal function\n"
      ]
    },
    {
      "cell_type": "code",
      "source": [
        "def print_myname():   # ตัวอย่าง function ที่ไม่มีทั้ง input และ output\n",
        "    print('Thanapong')"
      ],
      "metadata": {
        "id": "6wzfVo_pTefO"
      },
      "execution_count": null,
      "outputs": []
    },
    {
      "cell_type": "code",
      "source": [
        "print_myname()"
      ],
      "metadata": {
        "colab": {
          "base_uri": "https://localhost:8080/"
        },
        "id": "482E9UnsUMkC",
        "outputId": "0a2f0863-3d56-4688-d7cd-c307a53df42f"
      },
      "execution_count": null,
      "outputs": [
        {
          "output_type": "stream",
          "name": "stdout",
          "text": [
            "Thanapong\n"
          ]
        }
      ]
    },
    {
      "cell_type": "code",
      "source": [
        "b = print_myname()"
      ],
      "metadata": {
        "colab": {
          "base_uri": "https://localhost:8080/"
        },
        "id": "Tvh64fNKXa4A",
        "outputId": "f4fa08b4-2b2e-40f1-bdc1-fcbfba4fe55f"
      },
      "execution_count": null,
      "outputs": [
        {
          "output_type": "stream",
          "name": "stdout",
          "text": [
            "Thanapong\n"
          ]
        }
      ]
    },
    {
      "cell_type": "code",
      "source": [
        "b"
      ],
      "metadata": {
        "id": "85GUuzgBXfbc"
      },
      "execution_count": null,
      "outputs": []
    },
    {
      "cell_type": "code",
      "source": [
        "def print_name(name):   # ตัวอย่าง function ที่ มีครบทุกส่วน\n",
        "    st = f'ชื่อ {name}'\n",
        "    return st"
      ],
      "metadata": {
        "id": "IoDxvK_LWo0E"
      },
      "execution_count": null,
      "outputs": []
    },
    {
      "cell_type": "code",
      "source": [
        "print_name('stat')"
      ],
      "metadata": {
        "colab": {
          "base_uri": "https://localhost:8080/",
          "height": 56
        },
        "id": "ZgOS8VeoW_B_",
        "outputId": "1e2e8003-823b-4a39-f4e4-2af04d3e387e"
      },
      "execution_count": null,
      "outputs": [
        {
          "output_type": "execute_result",
          "data": {
            "text/plain": [
              "'ชื่อ stat'"
            ],
            "application/vnd.google.colaboratory.intrinsic+json": {
              "type": "string"
            }
          },
          "metadata": {},
          "execution_count": 16
        }
      ]
    },
    {
      "cell_type": "code",
      "source": [
        "a = print_name('stat')"
      ],
      "metadata": {
        "id": "XizFGc4yXO4v"
      },
      "execution_count": null,
      "outputs": []
    },
    {
      "cell_type": "code",
      "source": [
        "a"
      ],
      "metadata": {
        "colab": {
          "base_uri": "https://localhost:8080/",
          "height": 56
        },
        "id": "uxY0bP_3XUza",
        "outputId": "7b36102c-466a-4d6d-f91d-bab9c98dd877"
      },
      "execution_count": null,
      "outputs": [
        {
          "output_type": "execute_result",
          "data": {
            "text/plain": [
              "'ชื่อ stat'"
            ],
            "application/vnd.google.colaboratory.intrinsic+json": {
              "type": "string"
            }
          },
          "metadata": {},
          "execution_count": 18
        }
      ]
    },
    {
      "cell_type": "code",
      "metadata": {
        "id": "n706WULobPqc"
      },
      "source": [
        "def print_fullname(surname,ID,name):        # ตัวอย่าง function ที่ มี input หลายตัว กับ output 1 ตัว\n",
        "    st = f'ชื่อ {name} นามสกุล {surname} รหัส {ID}'\n",
        "    return st"
      ],
      "execution_count": null,
      "outputs": []
    },
    {
      "cell_type": "code",
      "metadata": {
        "colab": {
          "base_uri": "https://localhost:8080/",
          "height": 56
        },
        "id": "muh0pi_Gkym8",
        "outputId": "03f7e46b-7dd9-49f7-9c37-ace9da6de53c"
      },
      "source": [
        "print_fullname('อินทระ','66xxxxxx','ธนพงศ์')"
      ],
      "execution_count": null,
      "outputs": [
        {
          "output_type": "execute_result",
          "data": {
            "text/plain": [
              "'ชื่อ ธนพงศ์ นามสกุล อินทระ รหัส 66xxxxxx'"
            ],
            "application/vnd.google.colaboratory.intrinsic+json": {
              "type": "string"
            }
          },
          "metadata": {},
          "execution_count": 23
        }
      ]
    },
    {
      "cell_type": "code",
      "source": [
        "print_name(name='กาญจนา',surname='ประสาคุณ',ID='603021855-2')"
      ],
      "metadata": {
        "colab": {
          "base_uri": "https://localhost:8080/",
          "height": 56
        },
        "id": "vxooaHuHVTDJ",
        "outputId": "25d27066-d51d-471b-f2df-e71d92bc0faf"
      },
      "execution_count": null,
      "outputs": [
        {
          "output_type": "execute_result",
          "data": {
            "text/plain": [
              "'ชื่อ กาญจนา นามสกุล ประสาคุณ รหัส 603021855-2'"
            ],
            "application/vnd.google.colaboratory.intrinsic+json": {
              "type": "string"
            }
          },
          "metadata": {},
          "execution_count": 6
        }
      ]
    },
    {
      "cell_type": "markdown",
      "metadata": {
        "id": "tSV-FUQBpx0i"
      },
      "source": [
        "ฟังก์ชั่นไม่จำเป็นต้องมี output"
      ]
    },
    {
      "cell_type": "code",
      "metadata": {
        "id": "loNAFSvLo5dC"
      },
      "source": [
        "def print_fullname2(surname,ID,name):\n",
        "    st = f'ชื่อ {name} นามสกุล {surname} รหัส {ID}'\n",
        "    print(st)"
      ],
      "execution_count": null,
      "outputs": []
    },
    {
      "cell_type": "code",
      "metadata": {
        "colab": {
          "base_uri": "https://localhost:8080/"
        },
        "id": "JE88oCj8o_j_",
        "outputId": "9ce8c58c-465c-429b-ba25-942bd8839f01"
      },
      "source": [
        "print_name2(name='กาญจนา',surname='ประสาคุณ',ID='603021855-2')"
      ],
      "execution_count": null,
      "outputs": [
        {
          "output_type": "stream",
          "name": "stdout",
          "text": [
            "ชื่อ กาญจนา นามสกุล ประสาคุณ รหัส 603021855-2\n"
          ]
        }
      ]
    },
    {
      "cell_type": "markdown",
      "source": [
        "### ข้อแตกต่างระหว่าง function ที่มีและไม่มี output"
      ],
      "metadata": {
        "id": "dW328wxLWauv"
      }
    },
    {
      "cell_type": "code",
      "source": [
        "out_printname1 = print_fullname(name='กาญจนา',surname='ประสาคุณ',ID='603021855-2') # มี output\n",
        "print(out_printname1)"
      ],
      "metadata": {
        "colab": {
          "base_uri": "https://localhost:8080/"
        },
        "id": "Ae6C6-DTWFOD",
        "outputId": "972657a9-ec3b-449e-affa-95584785a921"
      },
      "execution_count": null,
      "outputs": [
        {
          "output_type": "stream",
          "name": "stdout",
          "text": [
            "ชื่อ กาญจนา นามสกุล ประสาคุณ รหัส 603021855-2\n"
          ]
        }
      ]
    },
    {
      "cell_type": "code",
      "source": [
        "out_printname1"
      ],
      "metadata": {
        "colab": {
          "base_uri": "https://localhost:8080/",
          "height": 56
        },
        "id": "yPtH94N0WtsE",
        "outputId": "1d6db60b-609d-4b24-93da-cbab602ac4e4"
      },
      "execution_count": null,
      "outputs": [
        {
          "output_type": "execute_result",
          "data": {
            "text/plain": [
              "'ชื่อ กาญจนา นามสกุล ประสาคุณ รหัส 603021855-2'"
            ],
            "application/vnd.google.colaboratory.intrinsic+json": {
              "type": "string"
            }
          },
          "metadata": {},
          "execution_count": 28
        }
      ]
    },
    {
      "cell_type": "code",
      "source": [
        "out_printname2 = print_fullname2(name='กาญจนา',surname='ประสาคุณ',ID='603021855-2')  # ไม่มี output"
      ],
      "metadata": {
        "colab": {
          "base_uri": "https://localhost:8080/"
        },
        "id": "AbT5pKVYWRBn",
        "outputId": "22c5ecb4-32d2-4506-ab39-7e1449cd09dc"
      },
      "execution_count": null,
      "outputs": [
        {
          "output_type": "stream",
          "name": "stdout",
          "text": [
            "ชื่อ กาญจนา นามสกุล ประสาคุณ รหัส 603021855-2\n"
          ]
        }
      ]
    },
    {
      "cell_type": "code",
      "source": [
        "print(out_printname2)"
      ],
      "metadata": {
        "colab": {
          "base_uri": "https://localhost:8080/"
        },
        "id": "1SGVl6H-Y7iY",
        "outputId": "eede0f64-b952-4bca-d853-8b1fdfa078c4"
      },
      "execution_count": null,
      "outputs": [
        {
          "output_type": "stream",
          "name": "stdout",
          "text": [
            "None\n"
          ]
        }
      ]
    },
    {
      "cell_type": "markdown",
      "metadata": {
        "id": "JF4RdyEBqPyl"
      },
      "source": [
        "ฟังก์ชั่นไม่จำเป็นต้องมี input"
      ]
    },
    {
      "cell_type": "code",
      "metadata": {
        "id": "LNb_o_ZXo_gh"
      },
      "source": [
        "def Pi():\n",
        "    return 3.14159265359"
      ],
      "execution_count": null,
      "outputs": []
    },
    {
      "cell_type": "code",
      "metadata": {
        "colab": {
          "base_uri": "https://localhost:8080/"
        },
        "id": "htN6zLbFo_dr",
        "outputId": "f588d994-6ab1-401b-de64-b16d9db2f781"
      },
      "source": [
        "Pi()*(2**2) # หาพื้นที่ของวงกลมที่มีรัศมีเท่ากับ Pi * r^2"
      ],
      "execution_count": null,
      "outputs": [
        {
          "output_type": "execute_result",
          "data": {
            "text/plain": [
              "12.56637061436"
            ]
          },
          "metadata": {},
          "execution_count": 33
        }
      ]
    },
    {
      "cell_type": "markdown",
      "metadata": {
        "id": "ywc0Ho-_rUTu"
      },
      "source": [
        "## เราสามารถกำหนดค่า default ให้กับ input ของฟังก์ชั่นได้"
      ]
    },
    {
      "cell_type": "markdown",
      "metadata": {
        "id": "y_74dHkjxS7f"
      },
      "source": [
        "input ของ function ใน python มีสองแบบ input ที่จำเป็นต้องใส่ กับ input ที่ไม่จำเป็นต้องใส่ (มีค่า default)\n",
        "\n",
        "เราต้องเรียง input ที่จำเป็นต้องใส่ขึ้นก่อน"
      ]
    },
    {
      "cell_type": "code",
      "metadata": {
        "id": "0Lrh-6mAo_bA"
      },
      "source": [
        "def print_2lines_default(name,surname,ID,grade='F'):\n",
        "    st = f'ชื่อ {name} นามสกุล {surname} รหัส {ID}'\n",
        "    print (st)\n",
        "    st2=f'เกรดวิชา Data Viz >>> {grade}'\n",
        "    print(st2)"
      ],
      "execution_count": null,
      "outputs": []
    },
    {
      "cell_type": "code",
      "metadata": {
        "colab": {
          "base_uri": "https://localhost:8080/"
        },
        "id": "ZH31VIjko_WP",
        "outputId": "f5b0940a-f46d-4241-b39c-c74c4740c439"
      },
      "source": [
        "print_2lines_default('รุ่งแสง','กองสุข','663020292-1')"
      ],
      "execution_count": null,
      "outputs": [
        {
          "output_type": "stream",
          "name": "stdout",
          "text": [
            "ชื่อ รุ่งแสง นามสกุล กองสุข รหัส 663020292-1\n",
            "เกรดวิชา Data Viz >>> F\n"
          ]
        }
      ]
    },
    {
      "cell_type": "code",
      "metadata": {
        "colab": {
          "base_uri": "https://localhost:8080/"
        },
        "id": "FKGr2Iyuo_S2",
        "outputId": "a01e7cac-959a-436e-b5eb-af5162a3e13e"
      },
      "source": [
        "print_2lines_default('รุ่งแสง','กองสุข','663020292-1','A')"
      ],
      "execution_count": null,
      "outputs": [
        {
          "output_type": "stream",
          "name": "stdout",
          "text": [
            "ชื่อ รุ่งแสง นามสกุล กองสุข รหัส 663020292-1\n",
            "เกรดวิชา Data Viz >>> A\n"
          ]
        }
      ]
    },
    {
      "cell_type": "code",
      "source": [
        "print_2lines_default('ธันยาการต์','พวงมาลัย')"
      ],
      "metadata": {
        "colab": {
          "base_uri": "https://localhost:8080/",
          "height": 158
        },
        "id": "cLGa_pO1Zv1U",
        "outputId": "5bf453c3-5508-4f83-9975-0362c3db20a8"
      },
      "execution_count": null,
      "outputs": [
        {
          "output_type": "error",
          "ename": "TypeError",
          "evalue": "print_2lines_default() missing 1 required positional argument: 'ID'",
          "traceback": [
            "\u001b[0;31m---------------------------------------------------------------------------\u001b[0m",
            "\u001b[0;31mTypeError\u001b[0m                                 Traceback (most recent call last)",
            "\u001b[0;32m/tmp/ipython-input-38-2908973391.py\u001b[0m in \u001b[0;36m<cell line: 0>\u001b[0;34m()\u001b[0m\n\u001b[0;32m----> 1\u001b[0;31m \u001b[0mprint_2lines_default\u001b[0m\u001b[0;34m(\u001b[0m\u001b[0;34m'ธันยาการต์'\u001b[0m\u001b[0;34m,\u001b[0m\u001b[0;34m'พวงมาลัย'\u001b[0m\u001b[0;34m)\u001b[0m\u001b[0;34m\u001b[0m\u001b[0;34m\u001b[0m\u001b[0m\n\u001b[0m",
            "\u001b[0;31mTypeError\u001b[0m: print_2lines_default() missing 1 required positional argument: 'ID'"
          ]
        }
      ]
    },
    {
      "cell_type": "markdown",
      "source": [
        "# Quiz5\n",
        "เขียน function ของ HW2\n",
        "\n",
        "commit \"quiz5\""
      ],
      "metadata": {
        "id": "Alh7JMwDa1k1"
      }
    },
    {
      "cell_type": "markdown",
      "source": [
        "# Quiz6\n",
        "เขียน function ของ HW2 -> มีการใช้ ค่า default ของ input โดยถ้าวันที่กรอกเป็นวันเดียวกันให้ไม่ต้องกรอกเลยหรือกรอกแค่ 1 ตัว\n",
        "\n",
        "commit \"quiz6\""
      ],
      "metadata": {
        "id": "_UbG8M_Mf-lj"
      }
    },
    {
      "cell_type": "code",
      "source": [
        "# prompt: เขียนฟังก์ชั่นคำนวณวินาที จาก เวลาที่ใส่เข้ามา\n",
        "\n",
        "def calculate_seconds(hours, minutes, seconds):\n",
        "  \"\"\"\n",
        "  คำนวณวินาทีรวมจากชั่วโมง นาที และวินาทีที่กำหนด\n",
        "\n",
        "  Args:\n",
        "    hours: จำนวนชั่วโมง\n",
        "    minutes: จำนวนนาที\n",
        "    seconds: จำนวนวินาที\n",
        "\n",
        "  Returns:\n",
        "    จำนวนวินาทีทั้งหมด\n",
        "  \"\"\"\n",
        "  total_seconds = (hours * 3600) + (minutes * 60) + seconds\n",
        "  return total_seconds\n",
        "\n",
        "# ตัวอย่างการใช้งาน\n",
        "hours = 1\n",
        "minutes = 30\n",
        "seconds = 45\n",
        "total = calculate_seconds(hours, minutes, seconds)\n",
        "print(f\"{hours} ชั่วโมง {minutes} นาที {seconds} วินาที เท่ากับ {total} วินาที\")"
      ],
      "metadata": {
        "id": "h7EIgdp_a_M8",
        "colab": {
          "base_uri": "https://localhost:8080/"
        },
        "outputId": "29bf3a91-1ce5-4876-c24a-b54c7f4267ed"
      },
      "execution_count": null,
      "outputs": [
        {
          "output_type": "stream",
          "name": "stdout",
          "text": [
            "1 ชั่วโมง 30 นาที 45 วินาที เท่ากับ 5445 วินาที\n"
          ]
        }
      ]
    },
    {
      "cell_type": "markdown",
      "source": [
        "#inspect existing function\n",
        "\n",
        "- https://www.w3schools.com/python/ref_func_print.asp\n",
        "\n",
        "- https://scikit-learn.org/stable/modules/generated/sklearn.tree.DecisionTreeClassifier.html#sklearn.tree.DecisionTreeClassifier"
      ],
      "metadata": {
        "id": "kb25fxzpgXsp"
      }
    },
    {
      "cell_type": "code",
      "source": [
        "print('abc','def')"
      ],
      "metadata": {
        "id": "lhE86SIUa_Jt",
        "colab": {
          "base_uri": "https://localhost:8080/"
        },
        "outputId": "ff9c526d-979d-40eb-c3e5-e90476eba431"
      },
      "execution_count": null,
      "outputs": [
        {
          "output_type": "stream",
          "name": "stdout",
          "text": [
            "abc def\n"
          ]
        }
      ]
    },
    {
      "cell_type": "code",
      "source": [
        "print('abc','def',sep='+')"
      ],
      "metadata": {
        "id": "_VDg-OyRa_Hh",
        "colab": {
          "base_uri": "https://localhost:8080/"
        },
        "outputId": "ca39a30e-2c4f-42e9-bc68-8318a9b712ef"
      },
      "execution_count": null,
      "outputs": [
        {
          "output_type": "stream",
          "name": "stdout",
          "text": [
            "abc+def\n"
          ]
        }
      ]
    },
    {
      "cell_type": "code",
      "source": [],
      "metadata": {
        "id": "eSZh5ak-a_Ew"
      },
      "execution_count": null,
      "outputs": []
    },
    {
      "cell_type": "code",
      "source": [],
      "metadata": {
        "id": "AIuwSifNa_CC"
      },
      "execution_count": null,
      "outputs": []
    },
    {
      "cell_type": "code",
      "source": [],
      "metadata": {
        "id": "SItcrFAUa---"
      },
      "execution_count": null,
      "outputs": []
    },
    {
      "cell_type": "markdown",
      "metadata": {
        "id": "UB5fTAr3bPqg"
      },
      "source": [
        "# LOOP การวนซ้ำ"
      ]
    },
    {
      "cell_type": "markdown",
      "metadata": {
        "id": "gpIwjDjg0gfJ"
      },
      "source": [
        "for เป็นคำที่ใช้บอก python ว่าเรากำลังเขียน loop\n",
        "โดย for จะวนดึงสมาชิกจาก ```listA``` มาทำ process ```do_something```"
      ]
    },
    {
      "cell_type": "markdown",
      "metadata": {
        "id": "6XS2wO4_bPqg"
      },
      "source": [
        "```python\n",
        "    for each_member in listA :\n",
        "        do_something\n",
        "```"
      ]
    },
    {
      "cell_type": "markdown",
      "metadata": {
        "id": "d7kQ2AEcbPqg"
      },
      "source": [
        "#### คำสั่ง for เป็นคำสั่งวนซ้ำที่ใช้ควบคุมการทำงานซ้ำๆ ในจำนวนรอบที่แน่นอน"
      ]
    },
    {
      "cell_type": "code",
      "metadata": {
        "colab": {
          "base_uri": "https://localhost:8080/"
        },
        "id": "NcT-s7TEbPqg",
        "outputId": "bc8e41d7-2222-44d1-ae8b-21c1e4ac61f0"
      },
      "source": [
        "for i in [1,2,3] :\n",
        "    o = i**2\n",
        "    print (f'this member = {i} after process = {o}')"
      ],
      "execution_count": null,
      "outputs": [
        {
          "output_type": "stream",
          "name": "stdout",
          "text": [
            "this member = 1 after process = 1\n",
            "this member = 2 after process = 4\n",
            "this member = 3 after process = 9\n"
          ]
        }
      ]
    },
    {
      "cell_type": "markdown",
      "metadata": {
        "id": "YbnFaiU2bPqg"
      },
      "source": [
        "#### ตัวอย่างการใช้คำสั่ง for ในการวนซ้ำค่าของ i เมื่อ i คือ 'Thanapong' และคำสั่ง print(f'{i} -> /') เพื่อกำหนดให้ผลลัพธ์แสดงสัญลักษณ์ -> /  จากนั้นเพิ่มคำสั่ง print(' ') อีกครั้งเพื่อให้ผลลัพธ์มีการเว้นวรรค¶"
      ]
    },
    {
      "cell_type": "code",
      "source": [
        "for i in 'Iwarin':\n",
        "    print(i,end ='-> /\\n')"
      ],
      "metadata": {
        "colab": {
          "base_uri": "https://localhost:8080/"
        },
        "id": "LTgKvzoQ-0Ra",
        "outputId": "a24c9d92-9873-4317-eb10-8b0f29565bd6"
      },
      "execution_count": null,
      "outputs": [
        {
          "output_type": "stream",
          "name": "stdout",
          "text": [
            "I-> /\n",
            "w-> /\n",
            "a-> /\n",
            "r-> /\n",
            "i-> /\n",
            "n-> /\n"
          ]
        }
      ]
    },
    {
      "cell_type": "code",
      "metadata": {
        "id": "kstoI_CEbPqh",
        "outputId": "c729dda2-0315-4e21-e5b7-55d24c70a1a5",
        "colab": {
          "base_uri": "https://localhost:8080/"
        }
      },
      "source": [
        "for i in 'Iwarin':\n",
        "    print(f'{i} -> / ' )"
      ],
      "execution_count": null,
      "outputs": [
        {
          "output_type": "stream",
          "name": "stdout",
          "text": [
            "I -> / \n",
            "w -> / \n",
            "a -> / \n",
            "r -> / \n",
            "i -> / \n",
            "n -> / \n"
          ]
        }
      ]
    },
    {
      "cell_type": "code",
      "metadata": {
        "id": "mQmh0Ip-V8qR",
        "outputId": "927af5c4-0d78-44dc-f223-95083b3d501b",
        "colab": {
          "base_uri": "https://localhost:8080/"
        }
      },
      "source": [
        "for i in 'Thanapong':\n",
        "    print(f'{i} -> / ' ,end = '') #สั่งให้ print แบบ ไม่เว้นบรรทัด"
      ],
      "execution_count": null,
      "outputs": [
        {
          "output_type": "stream",
          "name": "stdout",
          "text": [
            "T -> / h -> / a -> / n -> / a -> / p -> / o -> / n -> / g -> / "
          ]
        }
      ]
    },
    {
      "cell_type": "markdown",
      "metadata": {
        "id": "3_I0IHOqXMIr"
      },
      "source": [
        "## สร้าง list ตัวเลขแบบอัตโนมัติ  range()"
      ]
    },
    {
      "cell_type": "code",
      "metadata": {
        "id": "ensAuLXBW-0P",
        "outputId": "9aedc092-f46a-41f3-97f3-4b5de2a0c4f3",
        "colab": {
          "base_uri": "https://localhost:8080/"
        }
      },
      "source": [
        "range5_output = range(5)\n",
        "print(list(range5_output))"
      ],
      "execution_count": null,
      "outputs": [
        {
          "output_type": "stream",
          "name": "stdout",
          "text": [
            "[0, 1, 2, 3, 4]\n"
          ]
        }
      ]
    },
    {
      "cell_type": "code",
      "metadata": {
        "id": "r8JXggPKXrEx",
        "outputId": "a4b040a5-db00-4ba2-e4b6-61a230967c99",
        "colab": {
          "base_uri": "https://localhost:8080/"
        }
      },
      "source": [
        "for i in range(100):\n",
        "    print('งง',end=' ')"
      ],
      "execution_count": null,
      "outputs": [
        {
          "output_type": "stream",
          "name": "stdout",
          "text": [
            "งง งง งง งง งง งง งง งง งง งง งง งง งง งง งง งง งง งง งง งง งง งง งง งง งง งง งง งง งง งง งง งง งง งง งง งง งง งง งง งง งง งง งง งง งง งง งง งง งง งง งง งง งง งง งง งง งง งง งง งง งง งง งง งง งง งง งง งง งง งง งง งง งง งง งง งง งง งง งง งง งง งง งง งง งง งง งง งง งง งง งง งง งง งง งง งง งง งง งง งง "
          ]
        }
      ]
    },
    {
      "cell_type": "code",
      "metadata": {
        "id": "RLvhNqw8YpKa",
        "outputId": "9dbb81ca-f0c9-430d-f995-eafc4d7e5fd6",
        "colab": {
          "base_uri": "https://localhost:8080/"
        }
      },
      "source": [
        "list(range(1,11)) #เริ่มต้นเป็นวงทึบ จบเป็นวงกลมโปร่ง เหมือน list slicing"
      ],
      "execution_count": null,
      "outputs": [
        {
          "output_type": "execute_result",
          "data": {
            "text/plain": [
              "[1, 2, 3, 4, 5, 6, 7, 8, 9, 10]"
            ]
          },
          "metadata": {},
          "execution_count": 12
        }
      ]
    },
    {
      "cell_type": "code",
      "metadata": {
        "id": "MqXQ9NLGcW-r",
        "outputId": "5721d338-54d9-4a9b-b232-5adb3fef0fad",
        "colab": {
          "base_uri": "https://localhost:8080/"
        }
      },
      "source": [
        "list(range(-3,20,4)) #3 -> start\n",
        "#20 -> ไม่เกิน\n",
        "#4 -> step"
      ],
      "execution_count": null,
      "outputs": [
        {
          "output_type": "execute_result",
          "data": {
            "text/plain": [
              "[-3, 1, 5, 9, 13, 17]"
            ]
          },
          "metadata": {},
          "execution_count": 14
        }
      ]
    },
    {
      "cell_type": "markdown",
      "source": [
        "#วนลูปโดยสนใจทั้งสมาชิกและลำดับ"
      ],
      "metadata": {
        "id": "5bWoCKPWAHdr"
      }
    },
    {
      "cell_type": "code",
      "source": [
        "index = 0\n",
        "for i in 'Iwarin' :\n",
        "    print(f'สมาชิกคือ {i} เป็นลำดับที่ {index}')\n",
        "    index += 1"
      ],
      "metadata": {
        "colab": {
          "base_uri": "https://localhost:8080/"
        },
        "id": "9jzKpFo5AV53",
        "outputId": "2292fcc2-fd99-48c4-ec61-2088318a0ae9"
      },
      "execution_count": null,
      "outputs": [
        {
          "output_type": "stream",
          "name": "stdout",
          "text": [
            "สมาชิกคือ I เป็นลำดับที่ 0\n",
            "สมาชิกคือ w เป็นลำดับที่ 1\n",
            "สมาชิกคือ a เป็นลำดับที่ 2\n",
            "สมาชิกคือ r เป็นลำดับที่ 3\n",
            "สมาชิกคือ i เป็นลำดับที่ 4\n",
            "สมาชิกคือ n เป็นลำดับที่ 5\n"
          ]
        }
      ]
    },
    {
      "cell_type": "code",
      "source": [
        "for index,i in enumerate('Iwarin'):\n",
        "    print(f'สมาชิก {i} เป็นลำดับที่ {index}')"
      ],
      "metadata": {
        "colab": {
          "base_uri": "https://localhost:8080/"
        },
        "id": "jXuB-zNQAyyO",
        "outputId": "bb6b5118-134f-4d81-92bc-cd33d063d2ce"
      },
      "execution_count": null,
      "outputs": [
        {
          "output_type": "stream",
          "name": "stdout",
          "text": [
            "สมาชิก I เป็นลำดับที่ 0\n",
            "สมาชิก w เป็นลำดับที่ 1\n",
            "สมาชิก a เป็นลำดับที่ 2\n",
            "สมาชิก r เป็นลำดับที่ 3\n",
            "สมาชิก i เป็นลำดับที่ 4\n",
            "สมาชิก n เป็นลำดับที่ 5\n"
          ]
        }
      ]
    },
    {
      "cell_type": "markdown",
      "metadata": {
        "id": "vPcR4tJebPqi"
      },
      "source": [
        "### loop in loop\n",
        "#### สามารถใช้ for loop ซ้อนกันสองรอบได้¶"
      ]
    },
    {
      "cell_type": "code",
      "metadata": {
        "id": "TKRcpd5DbPqi",
        "outputId": "f47a509f-0bf9-470a-fb4e-db2464fd2822",
        "colab": {
          "base_uri": "https://localhost:8080/"
        }
      },
      "source": [
        "for name1 in  range(2,5): #(2, 3, 4)\n",
        "    print(f'now name1 = {name1}')\n",
        "    for name2 in  range(1,13):\n",
        "        print('  ', name1,' x ',name2,' = ',name1*name2)\n",
        "    print('the inner loop is end')"
      ],
      "execution_count": null,
      "outputs": [
        {
          "output_type": "stream",
          "name": "stdout",
          "text": [
            "now name1 = 2\n",
            "   2  x  1  =  2\n",
            "   2  x  2  =  4\n",
            "   2  x  3  =  6\n",
            "   2  x  4  =  8\n",
            "   2  x  5  =  10\n",
            "   2  x  6  =  12\n",
            "   2  x  7  =  14\n",
            "   2  x  8  =  16\n",
            "   2  x  9  =  18\n",
            "   2  x  10  =  20\n",
            "   2  x  11  =  22\n",
            "   2  x  12  =  24\n",
            "the inner loop is end\n",
            "now name1 = 3\n",
            "   3  x  1  =  3\n",
            "   3  x  2  =  6\n",
            "   3  x  3  =  9\n",
            "   3  x  4  =  12\n",
            "   3  x  5  =  15\n",
            "   3  x  6  =  18\n",
            "   3  x  7  =  21\n",
            "   3  x  8  =  24\n",
            "   3  x  9  =  27\n",
            "   3  x  10  =  30\n",
            "   3  x  11  =  33\n",
            "   3  x  12  =  36\n",
            "the inner loop is end\n",
            "now name1 = 4\n",
            "   4  x  1  =  4\n",
            "   4  x  2  =  8\n",
            "   4  x  3  =  12\n",
            "   4  x  4  =  16\n",
            "   4  x  5  =  20\n",
            "   4  x  6  =  24\n",
            "   4  x  7  =  28\n",
            "   4  x  8  =  32\n",
            "   4  x  9  =  36\n",
            "   4  x  10  =  40\n",
            "   4  x  11  =  44\n",
            "   4  x  12  =  48\n",
            "the inner loop is end\n"
          ]
        }
      ]
    },
    {
      "cell_type": "code",
      "source": [
        "#quiz 7 วนลูปแสดงค่าเลขให้เป็นสามเหลี่ยม\n",
        "for i in range(1, 6):\n",
        "  for j in range(1, i + 1):\n",
        "    print(i * j, end=' ')\n",
        "  print()"
      ],
      "metadata": {
        "colab": {
          "base_uri": "https://localhost:8080/"
        },
        "id": "hUTCzgxdCaHZ",
        "outputId": "8ffa1273-b130-47ba-cc5b-2e8014eabc88"
      },
      "execution_count": null,
      "outputs": [
        {
          "output_type": "stream",
          "name": "stdout",
          "text": [
            "1 \n",
            "2 4 \n",
            "3 6 9 \n",
            "4 8 12 16 \n",
            "5 10 15 20 25 \n"
          ]
        }
      ]
    },
    {
      "cell_type": "markdown",
      "metadata": {
        "id": "7-FAZit8bPqi"
      },
      "source": [
        "### loop in function\n",
        "#### การวนลูปในฟังก์ชั่น¶"
      ]
    },
    {
      "cell_type": "code",
      "metadata": {
        "id": "S0r5yhbDbPqi"
      },
      "source": [
        "def print_feelings(I,friendS,feeling = 'คิดถึง'):\n",
        "    for friend in friendS:\n",
        "        print(f'{I} {feeling} {friend}')"
      ],
      "execution_count": null,
      "outputs": []
    },
    {
      "cell_type": "code",
      "metadata": {
        "id": "_oVKj4SRfGS6"
      },
      "source": [
        "list_friends = ['คุณหนูเบียร์','พ่อใหญ่เฟิส','อ้ายสีหนุ่ม','จ่าหนึ่ง','บักโส']"
      ],
      "execution_count": null,
      "outputs": []
    },
    {
      "cell_type": "code",
      "metadata": {
        "id": "RepVZqu6bPqi",
        "outputId": "5e5473f3-79be-491a-f696-9b86cf2e7edb",
        "colab": {
          "base_uri": "https://localhost:8080/"
        }
      },
      "source": [
        "print_feelings('แก้ม',list_friends)"
      ],
      "execution_count": null,
      "outputs": [
        {
          "output_type": "stream",
          "name": "stdout",
          "text": [
            "แก้ม คิดถึง คุณหนูเบียร์\n",
            "แก้ม คิดถึง พ่อใหญ่เฟิส\n",
            "แก้ม คิดถึง อ้ายสีหนุ่ม\n",
            "แก้ม คิดถึง จ่าหนึ่ง\n",
            "แก้ม คิดถึง บักโส\n"
          ]
        }
      ]
    },
    {
      "cell_type": "code",
      "metadata": {
        "id": "P20pDnVaf2vK",
        "outputId": "fd864de6-baa6-4641-8d5c-1d5ebc65e32d",
        "colab": {
          "base_uri": "https://localhost:8080/"
        }
      },
      "source": [
        "print_feelings('แก้ม',list_friends,feeling='ซัง')"
      ],
      "execution_count": null,
      "outputs": [
        {
          "output_type": "stream",
          "name": "stdout",
          "text": [
            "แก้ม ซัง คุณหนูเบียร์\n",
            "แก้ม ซัง พ่อใหญ่เฟิส\n",
            "แก้ม ซัง อ้ายสีหนุ่ม\n",
            "แก้ม ซัง จ่าหนึ่ง\n",
            "แก้ม ซัง บักโส\n"
          ]
        }
      ]
    },
    {
      "cell_type": "code",
      "metadata": {
        "id": "SzHamL8JhKG4",
        "outputId": "19fac0b6-f144-486a-8200-8e246090c9d1",
        "colab": {
          "base_uri": "https://localhost:8080/"
        }
      },
      "source": [
        "print_feelings('เจมส์',list_friends,'รัก')"
      ],
      "execution_count": null,
      "outputs": [
        {
          "output_type": "stream",
          "name": "stdout",
          "text": [
            "เจมส์ รัก พี่บูม\n",
            "เจมส์ รัก ดายน์\n",
            "เจมส์ รัก แตงโม\n",
            "เจมส์ รัก ฝน\n",
            "เจมส์ รัก พี่เจ็ท\n",
            "เจมส์ รัก น้องแคมป์\n"
          ]
        }
      ]
    },
    {
      "cell_type": "markdown",
      "source": [
        "จบ 24 มิย 67"
      ],
      "metadata": {
        "id": "GJAB4hnvnAX8"
      }
    },
    {
      "cell_type": "markdown",
      "source": [
        "## Dictionary (Data Structure)\n",
        "\n",
        "โครงสร้างข้อมูลที่จัดเก็บข้อมูลโดยการอ้างอิงโดย text\n",
        "\n",
        "วงเล็บ ```{``` ```}``` Curly Brackets"
      ],
      "metadata": {
        "id": "VreW55vmVRcb"
      }
    },
    {
      "cell_type": "code",
      "source": [
        "Ex_dict_A = {'memberA':[1,2,3],'memberB':8,'memberC':'abc'}"
      ],
      "metadata": {
        "id": "i-oH98ilV1RV"
      },
      "execution_count": null,
      "outputs": []
    },
    {
      "cell_type": "code",
      "source": [
        "Ex_dict_A"
      ],
      "metadata": {
        "colab": {
          "base_uri": "https://localhost:8080/"
        },
        "id": "kIwdnWuqWr58",
        "outputId": "94ff9453-c681-452c-ab5f-1969b9cfaabf"
      },
      "execution_count": null,
      "outputs": [
        {
          "output_type": "execute_result",
          "data": {
            "text/plain": [
              "{'memberA': [1, 2, 3], 'memberB': 8, 'memberC': 'abc'}"
            ]
          },
          "metadata": {},
          "execution_count": 35
        }
      ]
    },
    {
      "cell_type": "code",
      "source": [
        "Ex_dict_A['memberA']"
      ],
      "metadata": {
        "colab": {
          "base_uri": "https://localhost:8080/"
        },
        "id": "J4yy6oaXW4he",
        "outputId": "29b688ae-c3f8-47b8-8ff4-928e8d128905"
      },
      "execution_count": null,
      "outputs": [
        {
          "output_type": "execute_result",
          "data": {
            "text/plain": [
              "[1, 2, 3]"
            ]
          },
          "metadata": {},
          "execution_count": 36
        }
      ]
    },
    {
      "cell_type": "code",
      "source": [
        "Ex_dict_A['memberA'][1]"
      ],
      "metadata": {
        "colab": {
          "base_uri": "https://localhost:8080/"
        },
        "id": "cZjtUbdnXZK-",
        "outputId": "ae067088-43d0-4392-d4f1-d51e4608091d"
      },
      "execution_count": null,
      "outputs": [
        {
          "output_type": "execute_result",
          "data": {
            "text/plain": [
              "2"
            ]
          },
          "metadata": {},
          "execution_count": 37
        }
      ]
    },
    {
      "cell_type": "markdown",
      "metadata": {
        "id": "vwK7RmRJbPqj"
      },
      "source": [
        "### looping in dict\n",
        "#### ทำการวนลูปในค่า dict โดยที่เรากำหนดตัว key และvalueขึ้นมา ได้ดังนี้\n"
      ]
    },
    {
      "cell_type": "code",
      "metadata": {
        "id": "HI0F-4HobPqj",
        "outputId": "913912c3-50ad-4cb9-e973-e78adb780a50",
        "colab": {
          "base_uri": "https://localhost:8080/"
        }
      },
      "source": [
        "name_grade = {'พันทิพา' : 'B','ศุภนิตา' : 'C','ปนัดดา' : 'A','ทรงกลด' : 'F'}\n",
        "name_grade"
      ],
      "execution_count": null,
      "outputs": [
        {
          "output_type": "execute_result",
          "data": {
            "text/plain": [
              "{'พันทิพา': 'B', 'ศุภนิตา': 'C', 'ปนัดดา': 'A', 'ทรงกลด': 'F'}"
            ]
          },
          "metadata": {},
          "execution_count": 38
        }
      ]
    },
    {
      "cell_type": "code",
      "metadata": {
        "id": "jWf8aBmpbPqj",
        "outputId": "dd5dbc18-9474-4321-e67d-9fdb1e6ff2c3",
        "colab": {
          "base_uri": "https://localhost:8080/",
          "height": 35
        }
      },
      "source": [
        "name_grade['ปนัดดา']"
      ],
      "execution_count": null,
      "outputs": [
        {
          "output_type": "execute_result",
          "data": {
            "text/plain": [
              "'A'"
            ],
            "application/vnd.google.colaboratory.intrinsic+json": {
              "type": "string"
            }
          },
          "metadata": {},
          "execution_count": 39
        }
      ]
    },
    {
      "cell_type": "code",
      "source": [
        "name_grade.keys()"
      ],
      "metadata": {
        "colab": {
          "base_uri": "https://localhost:8080/"
        },
        "id": "0tXZc6kgYPgm",
        "outputId": "6975e463-d35d-4bb3-c6c1-2a95018c3808"
      },
      "execution_count": null,
      "outputs": [
        {
          "output_type": "execute_result",
          "data": {
            "text/plain": [
              "dict_keys(['พันทิพา', 'ศุภนิตา', 'ปนัดดา', 'ทรงกลด'])"
            ]
          },
          "metadata": {},
          "execution_count": 40
        }
      ]
    },
    {
      "cell_type": "code",
      "source": [
        "name_grade.values()"
      ],
      "metadata": {
        "colab": {
          "base_uri": "https://localhost:8080/"
        },
        "id": "zEqstk33YRxp",
        "outputId": "86b8c079-7f09-4e3b-8e00-62a5251f64d5"
      },
      "execution_count": null,
      "outputs": [
        {
          "output_type": "execute_result",
          "data": {
            "text/plain": [
              "dict_values(['B', 'C', 'A', 'F'])"
            ]
          },
          "metadata": {},
          "execution_count": 41
        }
      ]
    },
    {
      "cell_type": "code",
      "metadata": {
        "scrolled": true,
        "id": "eDqhoebhbPqj",
        "outputId": "6ad38bf1-ade2-49ad-a868-532cb2977136",
        "colab": {
          "base_uri": "https://localhost:8080/"
        }
      },
      "source": [
        "for i in name_grade.keys():\n",
        "    print(i)"
      ],
      "execution_count": null,
      "outputs": [
        {
          "output_type": "stream",
          "name": "stdout",
          "text": [
            "พันทิพา\n",
            "ศุภนิตา\n",
            "ปนัดดา\n",
            "ทรงกลด\n"
          ]
        }
      ]
    },
    {
      "cell_type": "code",
      "metadata": {
        "id": "Imvq4faObPqj",
        "outputId": "904a5cb3-f5ca-44a6-8291-85f28442c6d7",
        "colab": {
          "base_uri": "https://localhost:8080/"
        }
      },
      "source": [
        "for i in name_grade.keys():\n",
        "    print(f'{i} ได้เกรด {name_grade[i]}')"
      ],
      "execution_count": null,
      "outputs": [
        {
          "output_type": "stream",
          "name": "stdout",
          "text": [
            "พันทิพา ได้เกรด B\n",
            "ศุภนิตา ได้เกรด C\n",
            "ปนัดดา ได้เกรด A\n",
            "ทรงกลด ได้เกรด F\n"
          ]
        }
      ]
    },
    {
      "cell_type": "markdown",
      "source": [
        "## HW2 Example"
      ],
      "metadata": {
        "id": "CrnK1_WPaYv7"
      }
    },
    {
      "cell_type": "code",
      "source": [
        "time_list =  [\n",
        "    [\"18:09:10\", \"18:25:10\"],\n",
        "    [\"13:38:39\", \"23:54:39\"],\n",
        "    [\"16:49:58\", \"18:05:58\"],\n",
        "    [\"21:49:10\", \"22:24:10\"],\n",
        "    [\"08:52:21\", \"09:25:21\"],\n",
        "    [\"06:56:26\", \"07:49:26\"],\n",
        "    [\"12:08:05\", \"12:43:05\"],\n",
        "    [\"01:48:38\", \"07:18:38\"],\n",
        "    [\"08:51:21\", \"10:17:21\"],\n",
        "    [\"17:05:17\", \"18:09:17\"]]\n",
        "\n",
        "def time_to_second(time1,time2):\n",
        "    time1_list = time1.split(':')\n",
        "    time2_list = time2.split(':')\n",
        "    time1_sec = int(time1_list[0])*3600 + int(time1_list[1])*60 + int(time1_list[2])\n",
        "    time2_sec = int(time2_list[0])*3600 + int(time2_list[1])*60 + int(time2_list[2])\n",
        "    return(time2_sec - time1_sec)\n",
        "\n",
        "for time1,time2 in time_list:\n",
        "  diff_seconds = time_to_second(time1,time2)\n",
        "  print(f\"Time difference between {time1} - {time2} is {diff_seconds} seconds\")"
      ],
      "metadata": {
        "colab": {
          "base_uri": "https://localhost:8080/"
        },
        "id": "BqYhLFc5aYa2",
        "outputId": "825e1a7c-f359-44cc-9e02-160670dc983c"
      },
      "execution_count": null,
      "outputs": [
        {
          "output_type": "stream",
          "name": "stdout",
          "text": [
            "Time difference between 18:09:10 - 18:25:10 is 960 seconds\n",
            "Time difference between 13:38:39 - 23:54:39 is 36960 seconds\n",
            "Time difference between 16:49:58 - 18:05:58 is 4560 seconds\n",
            "Time difference between 21:49:10 - 22:24:10 is 2100 seconds\n",
            "Time difference between 08:52:21 - 09:25:21 is 1980 seconds\n",
            "Time difference between 06:56:26 - 07:49:26 is 3180 seconds\n",
            "Time difference between 12:08:05 - 12:43:05 is 2100 seconds\n",
            "Time difference between 01:48:38 - 07:18:38 is 19800 seconds\n",
            "Time difference between 08:51:21 - 10:17:21 is 5160 seconds\n",
            "Time difference between 17:05:17 - 18:09:17 is 3840 seconds\n"
          ]
        }
      ]
    },
    {
      "cell_type": "code",
      "source": [
        "time1 = \"18:09:10\"\n",
        "time2 = \"00:25:10\"\n",
        "diff_seconds = time_to_second(time1,time2)\n",
        "print(f\"Time difference between {time1} - {time2} is {diff_seconds} seconds\")"
      ],
      "metadata": {
        "colab": {
          "base_uri": "https://localhost:8080/"
        },
        "id": "lbz-CNPlbGYq",
        "outputId": "31befb8b-40ae-47b0-876d-a94e7ecfe760"
      },
      "execution_count": null,
      "outputs": [
        {
          "output_type": "stream",
          "name": "stdout",
          "text": [
            "Time difference between 18:09:10 - 00:25:10 is -63840 seconds\n"
          ]
        }
      ]
    },
    {
      "cell_type": "markdown",
      "metadata": {
        "id": "pLDGW8IobPqk"
      },
      "source": [
        "# Conditional statemet คือ ประโยคเงื่อนไข"
      ]
    },
    {
      "cell_type": "markdown",
      "source": [
        "ชนิดตัวแปรที่เกี่ยวข้อ Boolean (True,False)"
      ],
      "metadata": {
        "id": "TvK12jMwcVp8"
      }
    },
    {
      "cell_type": "code",
      "source": [
        "condition_1 = True\n",
        "condition_2 = False"
      ],
      "metadata": {
        "id": "JWxlKa-icUk6"
      },
      "execution_count": null,
      "outputs": []
    },
    {
      "cell_type": "markdown",
      "metadata": {
        "id": "8_-zCLkrbPqk"
      },
      "source": [
        "### การวนลูปโดยมีเงื่อนไขต่างๆมาเกี่ยวข้อง โดยมี pattern ดังนี้\n"
      ]
    },
    {
      "cell_type": "markdown",
      "metadata": {
        "id": "ZQuWb-bybPqk"
      },
      "source": [
        "```Python\n",
        "if condition1 :\n",
        "    do something\n",
        "elif condition2 :  #elif คือ else if\n",
        "    do another thing\n",
        "else:\n",
        "    do ...\n",
        "```\n",
        "    "
      ]
    },
    {
      "cell_type": "markdown",
      "metadata": {
        "id": "kUPdCRG7bPqk"
      },
      "source": [
        "## ==, !=,>=,<=,<,> Operator ของตัวเลข"
      ]
    },
    {
      "cell_type": "code",
      "source": [
        "def time_to_second(time1):\n",
        "    time1_list = time1.split(':')\n",
        "    time1_sec = int(time1_list[0])*3600 + int(time1_list[1])*60 + int(time1_list[2])\n",
        "    return time1_sec"
      ],
      "metadata": {
        "id": "9NIOIupSd_Zn"
      },
      "execution_count": 1,
      "outputs": []
    },
    {
      "cell_type": "code",
      "source": [
        "time_list =  [\n",
        "    [\"18:09:10\", \"18:25:10\"],\n",
        "    [\"13:38:39\", \"23:54:39\"],[\"16:49:58\", \"18:05:58\"],\n",
        "    [\"21:49:10\", \"22:24:10\"],[\"08:52:21\", \"09:25:21\"],\n",
        "    [\"06:56:26\", \"07:49:26\"],[\"12:08:05\", \"12:43:05\"],\n",
        "    [\"01:48:38\", \"07:18:38\"],[\"08:51:21\", \"10:17:21\"],\n",
        "    [\"17:05:17\", \"18:09:17\"],[\"18:51:21\", \"00:17:21\"],\n",
        "    [\"17:05:17\", \"11:09:17\"],]"
      ],
      "metadata": {
        "id": "CYcYQJ45d8Wx"
      },
      "execution_count": 2,
      "outputs": []
    },
    {
      "cell_type": "code",
      "source": [
        "for time1,time2 in time_list:\n",
        "\n",
        "    if time_to_second(time1) < time_to_second(time2): #ถ้า time1 น้อยกว่า time2\n",
        "        diff_seconds = time_to_second(time2) - time_to_second(time1)\n",
        "    else: #ถ้า time1 ไม่น้อยกว่า time2\n",
        "        diff_seconds = (time_to_second(time2)+(24*60*60)) - time_to_second(time1)\n",
        "\n",
        "    print(f\"Time difference between {time1} - {time2} is {diff_seconds} seconds\")"
      ],
      "metadata": {
        "colab": {
          "base_uri": "https://localhost:8080/"
        },
        "id": "sv-1il2_dmvv",
        "outputId": "4de93381-07ee-4b81-eb11-92b85fcfde85"
      },
      "execution_count": 3,
      "outputs": [
        {
          "output_type": "stream",
          "name": "stdout",
          "text": [
            "Time difference between 18:09:10 - 18:25:10 is 960 seconds\n",
            "Time difference between 13:38:39 - 23:54:39 is 36960 seconds\n",
            "Time difference between 16:49:58 - 18:05:58 is 4560 seconds\n",
            "Time difference between 21:49:10 - 22:24:10 is 2100 seconds\n",
            "Time difference between 08:52:21 - 09:25:21 is 1980 seconds\n",
            "Time difference between 06:56:26 - 07:49:26 is 3180 seconds\n",
            "Time difference between 12:08:05 - 12:43:05 is 2100 seconds\n",
            "Time difference between 01:48:38 - 07:18:38 is 19800 seconds\n",
            "Time difference between 08:51:21 - 10:17:21 is 5160 seconds\n",
            "Time difference between 17:05:17 - 18:09:17 is 3840 seconds\n",
            "Time difference between 18:51:21 - 00:17:21 is 19560 seconds\n",
            "Time difference between 17:05:17 - 11:09:17 is 65040 seconds\n"
          ]
        }
      ]
    },
    {
      "cell_type": "markdown",
      "source": [
        "## ```&```, ```|```, ```in```, ```is```   :  Operator อื่นๆ"
      ],
      "metadata": {
        "id": "HSMQXdmmipMp"
      }
    },
    {
      "cell_type": "code",
      "source": [
        "a = 2 < 3\n",
        "print(a)"
      ],
      "metadata": {
        "colab": {
          "base_uri": "https://localhost:8080/"
        },
        "id": "j8iz7VnER7sZ",
        "outputId": "595b1866-8d30-4f72-fcc9-eaaea9520d05"
      },
      "execution_count": 6,
      "outputs": [
        {
          "output_type": "stream",
          "name": "stdout",
          "text": [
            "True\n"
          ]
        }
      ]
    },
    {
      "cell_type": "code",
      "source": [
        "b = 7 in range(7)\n",
        "print(b)"
      ],
      "metadata": {
        "colab": {
          "base_uri": "https://localhost:8080/"
        },
        "id": "SuzBXFfVSAU7",
        "outputId": "0f6670f9-be50-4cac-98fb-c30ac5016aee"
      },
      "execution_count": 9,
      "outputs": [
        {
          "output_type": "stream",
          "name": "stdout",
          "text": [
            "False\n"
          ]
        }
      ]
    },
    {
      "cell_type": "code",
      "source": [
        "a & b"
      ],
      "metadata": {
        "colab": {
          "base_uri": "https://localhost:8080/"
        },
        "id": "Yu3GrJ7NSYk2",
        "outputId": "6c37b9a1-9554-47b4-f66c-6bcc44c86c21"
      },
      "execution_count": 10,
      "outputs": [
        {
          "output_type": "execute_result",
          "data": {
            "text/plain": [
              "False"
            ]
          },
          "metadata": {},
          "execution_count": 10
        }
      ]
    },
    {
      "cell_type": "code",
      "source": [
        "a | b"
      ],
      "metadata": {
        "colab": {
          "base_uri": "https://localhost:8080/"
        },
        "id": "rz0Wy_gRSgtj",
        "outputId": "47726a5f-3de6-48d3-c1ca-75bddd2c9ca5"
      },
      "execution_count": 11,
      "outputs": [
        {
          "output_type": "execute_result",
          "data": {
            "text/plain": [
              "True"
            ]
          },
          "metadata": {},
          "execution_count": 11
        }
      ]
    },
    {
      "cell_type": "code",
      "source": [
        "if (2 < 3 )& (7 in range(10)):\n",
        "    print('yes')"
      ],
      "metadata": {
        "colab": {
          "base_uri": "https://localhost:8080/"
        },
        "id": "cvtgHpLnSp0e",
        "outputId": "353679f7-02f1-4068-93de-eb04bee9466f"
      },
      "execution_count": 13,
      "outputs": [
        {
          "output_type": "stream",
          "name": "stdout",
          "text": [
            "yes\n"
          ]
        }
      ]
    },
    {
      "cell_type": "code",
      "source": [
        "if (1>0) & (0>-1):\n",
        "    print(True & True)"
      ],
      "metadata": {
        "id": "ES5d1z0ti306",
        "outputId": "2d420021-409f-45c1-a7b6-0edd7c99f851",
        "colab": {
          "base_uri": "https://localhost:8080/"
        }
      },
      "execution_count": 4,
      "outputs": [
        {
          "output_type": "stream",
          "name": "stdout",
          "text": [
            "True\n"
          ]
        }
      ]
    },
    {
      "cell_type": "code",
      "source": [
        "if 'I' in 'Iwarin':\n",
        "    print('I in Iwarin')"
      ],
      "metadata": {
        "id": "3COnyOTKipAc",
        "outputId": "9a4531a6-2409-47a2-8203-a4688509fd16",
        "colab": {
          "base_uri": "https://localhost:8080/"
        }
      },
      "execution_count": 14,
      "outputs": [
        {
          "output_type": "stream",
          "name": "stdout",
          "text": [
            "I in Iwarin\n"
          ]
        }
      ]
    },
    {
      "cell_type": "code",
      "source": [
        "def return_nothing(x):\n",
        "    x = x+1"
      ],
      "metadata": {
        "id": "01N3TOG9k3ti"
      },
      "execution_count": 15,
      "outputs": []
    },
    {
      "cell_type": "code",
      "source": [
        "a = return_nothing(5)"
      ],
      "metadata": {
        "id": "drWbuBwNldOL"
      },
      "execution_count": 16,
      "outputs": []
    },
    {
      "cell_type": "code",
      "source": [
        "if a is None:\n",
        "    print('x is null')"
      ],
      "metadata": {
        "id": "pOj0pkEEkbuW",
        "outputId": "0abfa55b-491b-4ec9-b21b-2813bd4c0d9f",
        "colab": {
          "base_uri": "https://localhost:8080/"
        }
      },
      "execution_count": 17,
      "outputs": [
        {
          "output_type": "stream",
          "name": "stdout",
          "text": [
            "x is null\n"
          ]
        }
      ]
    },
    {
      "cell_type": "markdown",
      "source": [
        "## break คือ การออกจาก loop\n"
      ],
      "metadata": {
        "id": "2gN3fmkSTmS0"
      }
    },
    {
      "cell_type": "code",
      "source": [
        "numbers = [0,2,8,42,5,60,70,81,9,10]\n",
        "\n",
        "def check_odd_in_list(input_list):\n",
        "  for i in input_list:\n",
        "      if i % 2 != 0:\n",
        "        print(f'มีเลขคี่ คือ{i}')\n",
        "        break\n",
        "  print('ไม่มีเลขคี่')\n",
        "\n",
        "check_odd_in_list(numbers)"
      ],
      "metadata": {
        "id": "y1ET-H8ylyxP",
        "colab": {
          "base_uri": "https://localhost:8080/"
        },
        "outputId": "31910a2d-0fc7-4879-86fd-87f7d3ba2b1b"
      },
      "execution_count": 19,
      "outputs": [
        {
          "output_type": "stream",
          "name": "stdout",
          "text": [
            "มีเลขคี่ คือ5\n",
            "ไม่มีเลขคี่\n"
          ]
        }
      ]
    },
    {
      "cell_type": "code",
      "source": [
        "numbers = [0,2,8,42,5,60,70,81,9,10]\n",
        "\n",
        "def check_odd_in_list(input_list):\n",
        "  for i in input_list:\n",
        "      if i % 2 != 0:\n",
        "        print(f'มีเลขคี่ คือ{i}')\n",
        "        return\n",
        "  print('ไม่มีเลขคี่')\n",
        "  return input_list\n",
        "\n",
        "check_odd_in_list([0,2,8,42])"
      ],
      "metadata": {
        "colab": {
          "base_uri": "https://localhost:8080/"
        },
        "id": "GZHAwsMxWoIS",
        "outputId": "dfd238a7-1e01-4da9-9989-7ad7c71ddb22"
      },
      "execution_count": 23,
      "outputs": [
        {
          "output_type": "stream",
          "name": "stdout",
          "text": [
            "ไม่มีเลขคี่\n"
          ]
        },
        {
          "output_type": "execute_result",
          "data": {
            "text/plain": [
              "[0, 2, 8, 42]"
            ]
          },
          "metadata": {},
          "execution_count": 23
        }
      ]
    },
    {
      "cell_type": "code",
      "source": [
        "for num in numbers:\n",
        "  if num == 5:\n",
        "      print (\"Found 5! Breaking the loop\")\n",
        "      break\n",
        "  print(num)"
      ],
      "metadata": {
        "id": "fD7_wXfqVeW-"
      },
      "execution_count": null,
      "outputs": []
    },
    {
      "cell_type": "markdown",
      "metadata": {
        "id": "Bg3vVE3GbPqn"
      },
      "source": [
        "# Finish"
      ]
    },
    {
      "cell_type": "code",
      "source": [],
      "metadata": {
        "id": "uGtjq0cYTjmO"
      },
      "execution_count": null,
      "outputs": []
    }
  ]
}